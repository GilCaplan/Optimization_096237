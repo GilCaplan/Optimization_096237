{
  "metadata": {
    "kernelspec": {
      "name": "python",
      "display_name": "Pyolite",
      "language": "python"
    },
    "language_info": {
      "codemirror_mode": {
        "name": "python",
        "version": 3
      },
      "file_extension": ".py",
      "mimetype": "text/x-python",
      "name": "python",
      "nbconvert_exporter": "python",
      "pygments_lexer": "ipython3",
      "version": "3.8"
    }
  },
  "nbformat_minor": 4,
  "nbformat": 4,
  "cells": [
    {
      "cell_type": "code",
      "source": "# plotting the real discrete signal\nreal_s_1 = [1.]*40\nreal_s_0 = [0.]*40\n\nplt.plot(range(40), real_s_1, 'black', linewidth=0.7)\nplt.plot(range(41, 81), real_s_0, 'black', linewidth=0.7)\n\n\n# solving the problem\ns = np.array([[1.]*40 + [0.]*40]).T + 0.1*np.random.randn(80, 1) # noised signal\nx1 = gs_denoise(s, 0.5, 10)\nx2 = gs_denoise(s, 0.5, 20)\nx3 = gs_denoise(s, 0.5, 30)\n\nplt.plot(range(80), s, 'cyan', linewidth=0.7)\nplt.plot(range(80), x1, 'red', linewidth=0.7)\nplt.plot(range(80), x2, 'green', linewidth=0.7)\nplt.plot(range(80), x3, 'blue', linewidth=0.7)\n\nplt.show()",
      "metadata": {
        "trusted": true
      },
      "execution_count": null,
      "outputs": []
    }
  ]
}