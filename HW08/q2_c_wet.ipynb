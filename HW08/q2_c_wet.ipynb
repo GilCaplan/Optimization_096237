{
  "cells": [
    {
      "cell_type": "code",
      "execution_count": 1,
      "metadata": {},
      "outputs": [],
      "source": [
        "import numpy as np\n",
        "\n",
        "m=50\n",
        "n=2\n",
        "outliers_num=10\n",
        "np.random.seed(314)\n",
        "A = 3000*np.random.rand(n,m)\n",
        "A[:,:outliers_num] += 3000\n",
        "p = (10*np.random.rand(m,1)+10).round()\n",
        "alpha = 0.01\n",
        "gamma = 1.2\n",
        "eta1 = 20\n",
        "eta2 = 30\n",
        "mu1 = 2\n",
        "mu2 = 5"
      ]
    },
    {
      "cell_type": "code",
      "execution_count": 2,
      "metadata": {},
      "outputs": [
        {
          "name": "stdout",
          "output_type": "stream",
          "text": [
            "Shape of A: (2, 50)\n",
            "Shape of p: (50, 1)\n"
          ]
        }
      ],
      "source": [
        "print(f\"Shape of A: {A.shape}\") \n",
        "print(f\"Shape of p: {p.shape}\")"
      ]
    },
    {
      "cell_type": "code",
      "execution_count": 7,
      "metadata": {},
      "outputs": [
        {
          "name": "stdout",
          "output_type": "stream",
          "text": [
            "Optimal value for A: 16382.693745365377\n",
            "Optimal x_A: [1662.00851244 1613.78600109]\n",
            "Optimal value for B: 26250.468365180855\n",
            "Optimal x_B: [2356.74890495 2220.00465292]\n"
          ]
        },
        {
          "data": {
            "image/png": "[encoded data removed]",
            "text/plain": [
              "<Figure size 640x480 with 1 Axes>"
            ]
          },
          "metadata": {},
          "output_type": "display_data"
        }
      ],
      "source": [
        "import cvxpy as cp\n",
        "\n",
        "x_A = cp.Variable(2)\n",
        "x_B = cp.Variable(2)\n",
        "\n",
        "# Formulate the problem.\n",
        "objective = cp.Minimize(gamma*cp.sum([p[i]*alpha*cp.norm(A[:,i] - x_A) for i in range(m)]))\n",
        "\n",
        "# Constraints\n",
        "constraints = [\n",
        "    gamma>0,\n",
        "    alpha>0\n",
        "]\n",
        "\n",
        "# Solve problem.\n",
        "prob = cp.Problem(objective, constraints)\n",
        "result = prob.solve()\n",
        "# Print result.\n",
        "print(f\"Optimal value for A: {result}\")\n",
        "print(f\"Optimal x_A: {x_A.value}\")\n",
        "\n",
        "# Formulate the problem.\n",
        "objective = cp.Minimize(cp.sum([alpha*gamma*p[i]*cp.norm(A[:,i] - x_B) + \n",
        "                                p[i]*cp.maximum(0, mu1*(alpha*cp.norm(A[:,i] - x_B) - eta1)) + \n",
        "                                p[i]*cp.maximum(0, (mu2-mu1)*(alpha*cp.norm(A[:,i] - x_B) - eta2)) \n",
        "                                for i in range(m)]))\n",
        "\n",
        "# Constraints\n",
        "constraints = [\n",
        "    mu1>0,\n",
        "    mu2>mu1,\n",
        "    eta1>0,\n",
        "    eta2>eta1,\n",
        "    gamma>0\n",
        "]\n",
        "\n",
        "# Solve problem.\n",
        "prob = cp.Problem(objective, constraints)\n",
        "result = prob.solve()\n",
        "# Print result.\n",
        "print(f\"Optimal value for B: {result}\")\n",
        "print(f\"Optimal x_B: {x_B.value}\")\n",
        "\n",
        "# Plot A_i points in black, x_A in red, x_B in blue\n",
        "import matplotlib.pyplot as plt\n",
        "plt.scatter(A[0,:], A[1,:], c='k', label='Shipments')\n",
        "plt.scatter(x_A.value[0], x_A.value[1], c='r', label='First option for storage location')\n",
        "plt.scatter(x_B.value[0], x_B.value[1], c='b', label='Second option for storage location')\n",
        "plt.title(\"Visualization\")\n",
        "plt.show()\n"
      ]
    }
  ],
  "metadata": {
    "kernelspec": {
      "display_name": "Python 3",
      "language": "python",
      "name": "python3"
    },
    "language_info": {
      "codemirror_mode": {
        "name": "ipython",
        "version": 3
      },
      "file_extension": ".py",
      "mimetype": "text/x-python",
      "name": "python",
      "nbconvert_exporter": "python",
      "pygments_lexer": "ipython3",
      "version": "3.10.4"
    }
  },
  "nbformat": 4,
  "nbformat_minor": 4
}
