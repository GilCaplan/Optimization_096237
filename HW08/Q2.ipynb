{
  "metadata": {
    "language_info": {
      "codemirror_mode": {
        "name": "python",
        "version": 3
      },
      "file_extension": ".py",
      "mimetype": "text/x-python",
      "name": "python",
      "nbconvert_exporter": "python",
      "pygments_lexer": "ipython3",
      "version": "3.8"
    },
    "kernelspec": {
      "name": "python",
      "display_name": "Pyolite",
      "language": "python"
    }
  },
  "nbformat_minor": 4,
  "nbformat": 4,
  "cells": [
    {
      "cell_type": "code",
      "source": "m=50\nn=2\noutliers_num=10\nnp.random.seed(314)\nA = 3000*np.random.rand(n,m)\nA[:,:outliers_num] += 3000\np = (10*np.random.rand(m,1)+10).round()\nalpha = 0.01\ngamma = 1.2\neta1 = 20\neta2 = 30\nmu1 = 2\nmu2 = 5",
      "metadata": {},
      "execution_count": null,
      "outputs": []
    }
  ]
}